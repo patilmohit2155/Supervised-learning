{
  "nbformat": 4,
  "nbformat_minor": 5,
  "metadata": {
    "kernelspec": {
      "display_name": "Python 3",
      "language": "python",
      "name": "python3"
    },
    "language_info": {
      "codemirror_mode": {
        "name": "ipython",
        "version": 3
      },
      "file_extension": ".py",
      "mimetype": "text/x-python",
      "name": "python",
      "nbconvert_exporter": "python",
      "pygments_lexer": "ipython3",
      "version": "3.8.8"
    },
    "colab": {
      "name": "decision_trees_extended.ipynb",
      "provenance": [],
      "include_colab_link": true
    }
  },
  "cells": [
    {
      "cell_type": "markdown",
      "metadata": {
        "id": "view-in-github",
        "colab_type": "text"
      },
      "source": [
        "<a href=\"https://colab.research.google.com/github/LondheShubham153/supervised_learning/blob/main/decision_trees_extended.ipynb\" target=\"_parent\"><img src=\"https://colab.research.google.com/assets/colab-badge.svg\" alt=\"Open In Colab\"/></a>"
      ]
    },
    {
      "cell_type": "code",
      "metadata": {
        "id": "27c06e12"
      },
      "source": [
        "import numpy as np\n",
        "import pandas as pd\n",
        "import os\n",
        "from sklearn.preprocessing import LabelEncoder\n",
        "from sklearn.model_selection import train_test_split\n",
        "from sklearn.model_selection import RandomizedSearchCV, GridSearchCV\n",
        "from sklearn import tree\n",
        "from sklearn.metrics import accuracy_score,confusion_matrix\n",
        "import seaborn as sns\n",
        "import matplotlib.pyplot as plt"
      ],
      "id": "27c06e12",
      "execution_count": null,
      "outputs": []
    },
    {
      "cell_type": "code",
      "metadata": {
        "id": "a571f408"
      },
      "source": [
        "df= pd.read_csv('heart.csv')"
      ],
      "id": "a571f408",
      "execution_count": null,
      "outputs": []
    },
    {
      "cell_type": "code",
      "metadata": {
        "colab": {
          "base_uri": "https://localhost:8080/",
          "height": 226
        },
        "id": "5daa29d1",
        "outputId": "24d4cf40-961b-4895-9dc2-4a736e6f8513"
      },
      "source": [
        "df.head()"
      ],
      "id": "5daa29d1",
      "execution_count": null,
      "outputs": [
        {
          "output_type": "execute_result",
          "data": {
            "text/html": [
              "<div>\n",
              "<style scoped>\n",
              "    .dataframe tbody tr th:only-of-type {\n",
              "        vertical-align: middle;\n",
              "    }\n",
              "\n",
              "    .dataframe tbody tr th {\n",
              "        vertical-align: top;\n",
              "    }\n",
              "\n",
              "    .dataframe thead th {\n",
              "        text-align: right;\n",
              "    }\n",
              "</style>\n",
              "<table border=\"1\" class=\"dataframe\">\n",
              "  <thead>\n",
              "    <tr style=\"text-align: right;\">\n",
              "      <th></th>\n",
              "      <th>age</th>\n",
              "      <th>sex</th>\n",
              "      <th>cp</th>\n",
              "      <th>trestbps</th>\n",
              "      <th>chol</th>\n",
              "      <th>fbs</th>\n",
              "      <th>restecg</th>\n",
              "      <th>thalach</th>\n",
              "      <th>exang</th>\n",
              "      <th>oldpeak</th>\n",
              "      <th>slope</th>\n",
              "      <th>ca</th>\n",
              "      <th>thal</th>\n",
              "      <th>target</th>\n",
              "    </tr>\n",
              "  </thead>\n",
              "  <tbody>\n",
              "    <tr>\n",
              "      <th>0</th>\n",
              "      <td>63</td>\n",
              "      <td>1</td>\n",
              "      <td>3</td>\n",
              "      <td>145</td>\n",
              "      <td>233</td>\n",
              "      <td>1</td>\n",
              "      <td>0</td>\n",
              "      <td>150</td>\n",
              "      <td>0</td>\n",
              "      <td>2.3</td>\n",
              "      <td>0</td>\n",
              "      <td>0</td>\n",
              "      <td>1</td>\n",
              "      <td>1</td>\n",
              "    </tr>\n",
              "    <tr>\n",
              "      <th>1</th>\n",
              "      <td>37</td>\n",
              "      <td>1</td>\n",
              "      <td>2</td>\n",
              "      <td>130</td>\n",
              "      <td>250</td>\n",
              "      <td>0</td>\n",
              "      <td>1</td>\n",
              "      <td>187</td>\n",
              "      <td>0</td>\n",
              "      <td>3.5</td>\n",
              "      <td>0</td>\n",
              "      <td>0</td>\n",
              "      <td>2</td>\n",
              "      <td>1</td>\n",
              "    </tr>\n",
              "    <tr>\n",
              "      <th>2</th>\n",
              "      <td>41</td>\n",
              "      <td>0</td>\n",
              "      <td>1</td>\n",
              "      <td>130</td>\n",
              "      <td>204</td>\n",
              "      <td>0</td>\n",
              "      <td>0</td>\n",
              "      <td>172</td>\n",
              "      <td>0</td>\n",
              "      <td>1.4</td>\n",
              "      <td>2</td>\n",
              "      <td>0</td>\n",
              "      <td>2</td>\n",
              "      <td>1</td>\n",
              "    </tr>\n",
              "    <tr>\n",
              "      <th>3</th>\n",
              "      <td>56</td>\n",
              "      <td>1</td>\n",
              "      <td>1</td>\n",
              "      <td>120</td>\n",
              "      <td>236</td>\n",
              "      <td>0</td>\n",
              "      <td>1</td>\n",
              "      <td>178</td>\n",
              "      <td>0</td>\n",
              "      <td>0.8</td>\n",
              "      <td>2</td>\n",
              "      <td>0</td>\n",
              "      <td>2</td>\n",
              "      <td>1</td>\n",
              "    </tr>\n",
              "    <tr>\n",
              "      <th>4</th>\n",
              "      <td>57</td>\n",
              "      <td>0</td>\n",
              "      <td>0</td>\n",
              "      <td>120</td>\n",
              "      <td>354</td>\n",
              "      <td>0</td>\n",
              "      <td>1</td>\n",
              "      <td>163</td>\n",
              "      <td>1</td>\n",
              "      <td>0.6</td>\n",
              "      <td>2</td>\n",
              "      <td>0</td>\n",
              "      <td>2</td>\n",
              "      <td>1</td>\n",
              "    </tr>\n",
              "  </tbody>\n",
              "</table>\n",
              "</div>"
            ],
            "text/plain": [
              "   age  sex  cp  trestbps  chol  fbs  ...  exang  oldpeak  slope  ca  thal  target\n",
              "0   63    1   3       145   233    1  ...      0      2.3      0   0     1       1\n",
              "1   37    1   2       130   250    0  ...      0      3.5      0   0     2       1\n",
              "2   41    0   1       130   204    0  ...      0      1.4      2   0     2       1\n",
              "3   56    1   1       120   236    0  ...      0      0.8      2   0     2       1\n",
              "4   57    0   0       120   354    0  ...      1      0.6      2   0     2       1\n",
              "\n",
              "[5 rows x 14 columns]"
            ]
          },
          "metadata": {},
          "execution_count": 3
        }
      ]
    },
    {
      "cell_type": "code",
      "metadata": {
        "id": "aae7122a"
      },
      "source": [
        "X = df.drop(columns=['target'])\n",
        "y = df['target']"
      ],
      "id": "aae7122a",
      "execution_count": null,
      "outputs": []
    },
    {
      "cell_type": "code",
      "metadata": {
        "id": "f3ee3dd0"
      },
      "source": [
        "x_train,x_test,y_train,y_test = train_test_split(X,y,stratify=y)"
      ],
      "id": "f3ee3dd0",
      "execution_count": null,
      "outputs": []
    },
    {
      "cell_type": "markdown",
      "metadata": {
        "id": "ead4d0ca"
      },
      "source": [
        "First we will fit a normal decision tree without any fine tuning and check the results"
      ],
      "id": "ead4d0ca"
    },
    {
      "cell_type": "code",
      "metadata": {
        "id": "c3e8eb74"
      },
      "source": [
        "clf = tree.DecisionTreeClassifier(random_state=0)\n",
        "clf.fit(x_train,y_train)\n",
        "y_train_pred = clf.predict(x_train)\n",
        "y_test_pred = clf.predict(x_test)"
      ],
      "id": "c3e8eb74",
      "execution_count": null,
      "outputs": []
    },
    {
      "cell_type": "code",
      "metadata": {
        "id": "cf994d9a"
      },
      "source": [
        "def plot_confusionmatrix(y_train_pred,y_train,dom):\n",
        "    cf = confusion_matrix(y_train_pred,y_train)\n",
        "    sns.heatmap(cf,annot=True,yticklabels=classes\n",
        "               ,xticklabels=classes,cmap='Blues', fmt='g')\n",
        "    plt.tight_layout()\n",
        "    plt.show()"
      ],
      "id": "cf994d9a",
      "execution_count": null,
      "outputs": []
    },
    {
      "cell_type": "code",
      "metadata": {
        "colab": {
          "base_uri": "https://localhost:8080/",
          "height": 667
        },
        "id": "38fea034",
        "outputId": "f7a20bd1-0b96-4a9d-9ece-788dd035c548"
      },
      "source": [
        "classes = ['Not heart disease','heart disease']\n",
        "print(f'Train score {accuracy_score(y_train_pred,y_train)}')\n",
        "print(f'Test score {accuracy_score(y_test_pred,y_test)}')\n",
        "plot_confusionmatrix(y_train_pred,y_train,dom='Train')\n",
        "plot_confusionmatrix(y_test_pred,y_test,dom='Test')"
      ],
      "id": "38fea034",
      "execution_count": null,
      "outputs": [
        {
          "output_type": "stream",
          "name": "stdout",
          "text": [
            "Train score 1.0\n",
            "Test score 0.7368421052631579\n",
            "Train Confusion matrix\n"
          ]
        },
        {
          "output_type": "display_data",
          "data": {
            "image/png": "[encoded data removed]",
            "text/plain": [
              "<Figure size 432x288 with 2 Axes>"
            ]
          },
          "metadata": {
            "needs_background": "light"
          }
        },
        {
          "output_type": "stream",
          "name": "stdout",
          "text": [
            "Test Confusion matrix\n"
          ]
        },
        {
          "output_type": "display_data",
          "data": {
            "image/png": "[encoded data removed]",
            "text/plain": [
              "<Figure size 432x288 with 2 Axes>"
            ]
          },
          "metadata": {
            "needs_background": "light"
          }
        }
      ]
    },
    {
      "cell_type": "markdown",
      "metadata": {
        "id": "e591b2fd"
      },
      "source": [
        "# 1. Pre pruning"
      ],
      "id": "e591b2fd"
    },
    {
      "cell_type": "code",
      "metadata": {
        "colab": {
          "base_uri": "https://localhost:8080/"
        },
        "id": "8af73ded",
        "outputId": "e720b1e9-c383-460d-b455-1e70671d794c"
      },
      "source": [
        "params = {'max_depth': [2,4,6,8,10,12],\n",
        "         'min_samples_split': [2,3,4],\n",
        "         'min_samples_leaf': [1,2]}\n",
        "\n",
        "clf = tree.DecisionTreeClassifier()\n",
        "gcv = GridSearchCV(estimator=clf,param_grid=params)\n",
        "gcv.fit(x_train,y_train)"
      ],
      "id": "8af73ded",
      "execution_count": null,
      "outputs": [
        {
          "output_type": "execute_result",
          "data": {
            "text/plain": [
              "GridSearchCV(estimator=DecisionTreeClassifier(),\n",
              "             param_grid={'max_depth': [2, 4, 6, 8, 10, 12],\n",
              "                         'min_samples_leaf': [1, 2],\n",
              "                         'min_samples_split': [2, 3, 4]})"
            ]
          },
          "metadata": {},
          "execution_count": 9
        }
      ]
    },
    {
      "cell_type": "code",
      "metadata": {
        "colab": {
          "base_uri": "https://localhost:8080/",
          "height": 667
        },
        "id": "b60be36a",
        "outputId": "d7ae9f67-8f06-4318-ab1c-a8ad523a480a"
      },
      "source": [
        "model = gcv.best_estimator_\n",
        "model.fit(x_train,y_train)\n",
        "y_train_pred = model.predict(x_train)\n",
        "y_test_pred = model.predict(x_test)\n",
        "\n",
        "print(f'Train score {accuracy_score(y_train_pred,y_train)}')\n",
        "print(f'Test score {accuracy_score(y_test_pred,y_test)}')\n",
        "plot_confusionmatrix(y_train_pred,y_train,dom='Train')\n",
        "plot_confusionmatrix(y_test_pred,y_test,dom='Test')"
      ],
      "id": "b60be36a",
      "execution_count": null,
      "outputs": [
        {
          "output_type": "stream",
          "name": "stdout",
          "text": [
            "Train score 0.8898678414096917\n",
            "Test score 0.8026315789473685\n",
            "Train Confusion matrix\n"
          ]
        },
        {
          "output_type": "display_data",
          "data": {
            "image/png": "[encoded data removed]",
            "text/plain": [
              "<Figure size 432x288 with 2 Axes>"
            ]
          },
          "metadata": {
            "needs_background": "light"
          }
        },
        {
          "output_type": "stream",
          "name": "stdout",
          "text": [
            "Test Confusion matrix\n"
          ]
        },
        {
          "output_type": "display_data",
          "data": {
            "image/png": "[encoded data removed]",
            "text/plain": [
              "<Figure size 432x288 with 2 Axes>"
            ]
          },
          "metadata": {
            "needs_background": "light"
          }
        }
      ]
    },
    {
      "cell_type": "markdown",
      "metadata": {
        "id": "fe309f93"
      },
      "source": [
        "# 2. Post pruning techniques"
      ],
      "id": "fe309f93"
    },
    {
      "cell_type": "markdown",
      "metadata": {
        "id": "2c5ffa18"
      },
      "source": [
        "Cost Complexity Pruning"
      ],
      "id": "2c5ffa18"
    },
    {
      "cell_type": "code",
      "metadata": {
        "colab": {
          "base_uri": "https://localhost:8080/"
        },
        "id": "547debc3",
        "outputId": "889b2164-dd22-4360-f5d0-075ebfd81a8c"
      },
      "source": [
        "path = clf.cost_complexity_pruning_path(x_train, y_train)\n",
        "ccp_alphas, impurities = path.ccp_alphas, path.impurities\n",
        "print(ccp_alphas)"
      ],
      "id": "547debc3",
      "execution_count": null,
      "outputs": [
        {
          "output_type": "stream",
          "name": "stdout",
          "text": [
            "[0.         0.00396476 0.00432933 0.00528634 0.00528634 0.00531431\n",
            " 0.00566394 0.00594714 0.00612764 0.00660793 0.00660793 0.00688445\n",
            " 0.00792952 0.00795049 0.0092511  0.01057269 0.01079295 0.01110666\n",
            " 0.01204779 0.01846922 0.02852947 0.03102056 0.04846223 0.14001489]\n"
          ]
        }
      ]
    },
    {
      "cell_type": "code",
      "metadata": {
        "id": "28b7aae9"
      },
      "source": [
        "# For each alpha we will append our model to a list\n",
        "clfs = []\n",
        "for ccp_alpha in ccp_alphas:\n",
        "    clf = tree.DecisionTreeClassifier(random_state=0, ccp_alpha=ccp_alpha)\n",
        "    clf.fit(x_train, y_train)\n",
        "    clfs.append(clf)"
      ],
      "id": "28b7aae9",
      "execution_count": null,
      "outputs": []
    },
    {
      "cell_type": "code",
      "metadata": {
        "colab": {
          "base_uri": "https://localhost:8080/",
          "height": 286
        },
        "id": "460f408e",
        "outputId": "c0d8a653-6462-4dfa-9dbf-4861f76bedc1"
      },
      "source": [
        "#We will remove the last element in clfs and ccp_alphas, because it is the trivial tree with only one node.\n",
        "clfs = clfs[:-1]\n",
        "ccp_alphas = ccp_alphas[:-1]\n",
        "node_counts = [clf.tree_.node_count for clf in clfs]\n",
        "depth = [clf.tree_.max_depth for clf in clfs]\n",
        "plt.scatter(ccp_alphas,node_counts)\n",
        "plt.scatter(ccp_alphas,depth)\n",
        "plt.plot(ccp_alphas,node_counts,label='no of nodes',drawstyle=\"steps-post\")\n",
        "plt.plot(ccp_alphas,depth,label='depth',drawstyle=\"steps-post\")\n",
        "plt.legend()\n",
        "plt.show()"
      ],
      "id": "460f408e",
      "execution_count": null,
      "outputs": [
        {
          "output_type": "display_data",
          "data": {
            "image/png": "[encoded data removed]",
            "text/plain": [
              "<Figure size 432x288 with 1 Axes>"
            ]
          },
          "metadata": {
            "needs_background": "light"
          }
        }
      ]
    },
    {
      "cell_type": "code",
      "metadata": {
        "colab": {
          "base_uri": "https://localhost:8080/",
          "height": 302
        },
        "id": "94e574a3",
        "outputId": "8cb8a290-5090-4bac-9855-95bd34002b95"
      },
      "source": [
        "train_acc = []\n",
        "test_acc = []\n",
        "for c in clfs:\n",
        "    y_train_pred = c.predict(x_train)\n",
        "    y_test_pred = c.predict(x_test)\n",
        "    train_acc.append(accuracy_score(y_train_pred,y_train))\n",
        "    test_acc.append(accuracy_score(y_test_pred,y_test))\n",
        "\n",
        "plt.scatter(ccp_alphas,train_acc)\n",
        "plt.scatter(ccp_alphas,test_acc)\n",
        "plt.plot(ccp_alphas,train_acc,label='train_accuracy',drawstyle=\"steps-post\")\n",
        "plt.plot(ccp_alphas,test_acc,label='test_accuracy',drawstyle=\"steps-post\")\n",
        "plt.legend()\n",
        "plt.title('Accuracy vs alpha')\n",
        "plt.show()"
      ],
      "id": "94e574a3",
      "execution_count": null,
      "outputs": [
        {
          "output_type": "display_data",
          "data": {
            "image/png": "[encoded data removed]",
            "text/plain": [
              "<Figure size 432x288 with 1 Axes>"
            ]
          },
          "metadata": {
            "needs_background": "light"
          }
        }
      ]
    },
    {
      "cell_type": "code",
      "metadata": {
        "colab": {
          "base_uri": "https://localhost:8080/",
          "height": 667
        },
        "id": "e7dc6af9",
        "outputId": "a0ab192b-65a5-40c5-e855-42c1d6fdb311"
      },
      "source": [
        "clf_ = tree.DecisionTreeClassifier(random_state=0,ccp_alpha=0.020)\n",
        "clf_.fit(x_train,y_train)\n",
        "y_train_pred = clf_.predict(x_train)\n",
        "y_test_pred = clf_.predict(x_test)\n",
        "\n",
        "print(f'Train score {accuracy_score(y_train_pred,y_train)}')\n",
        "print(f'Test score {accuracy_score(y_test_pred,y_test)}')\n",
        "plot_confusionmatrix(y_train_pred,y_train,dom='Train')\n",
        "plot_confusionmatrix(y_test_pred,y_test,dom='Test')"
      ],
      "id": "e7dc6af9",
      "execution_count": null,
      "outputs": [
        {
          "output_type": "stream",
          "name": "stdout",
          "text": [
            "Train score 0.8281938325991189\n",
            "Test score 0.75\n",
            "Train Confusion matrix\n"
          ]
        },
        {
          "output_type": "display_data",
          "data": {
            "image/png": "[encoded data removed]",
            "text/plain": [
              "<Figure size 432x288 with 2 Axes>"
            ]
          },
          "metadata": {
            "needs_background": "light"
          }
        },
        {
          "output_type": "stream",
          "name": "stdout",
          "text": [
            "Test Confusion matrix\n"
          ]
        },
        {
          "output_type": "display_data",
          "data": {
            "image/png": "[encoded data removed]",
            "text/plain": [
              "<Figure size 432x288 with 2 Axes>"
            ]
          },
          "metadata": {
            "needs_background": "light"
          }
        }
      ]
    },
    {
      "cell_type": "code",
      "metadata": {
        "id": "ef277acd"
      },
      "source": [
        ""
      ],
      "id": "ef277acd",
      "execution_count": null,
      "outputs": []
    }
  ]
}